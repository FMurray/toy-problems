{
 "cells": [
  {
   "cell_type": "code",
   "execution_count": 1,
   "metadata": {},
   "outputs": [],
   "source": [
    "from leetscrape.GetQuestionsList import GetQuestionsList"
   ]
  },
  {
   "cell_type": "code",
   "execution_count": 2,
   "metadata": {},
   "outputs": [],
   "source": [
    "ls = GetQuestionsList()"
   ]
  },
  {
   "cell_type": "code",
   "execution_count": 3,
   "metadata": {},
   "outputs": [
    {
     "name": "stdout",
     "output_type": "stream",
     "text": [
      "Scraping companies ... Done\n",
      "Scraping questions list ... Done\n",
      "Extracting question topics ... Done\n",
      "Getting Categories ... Done\n",
      "Scraping Topic Tags ... Done\n",
      "Extracting question category ... Done\n"
     ]
    }
   ],
   "source": [
    "ls.scrape()"
   ]
  },
  {
   "cell_type": "code",
   "execution_count": 7,
   "metadata": {},
   "outputs": [
    {
     "data": {
      "text/plain": [
       "{'limit': 10000,\n",
       " 'companies':           name       slug  questionCount\n",
       " 0     Facebook   facebook            640\n",
       " 1    Bloomberg  bloomberg            561\n",
       " 2       Amazon     amazon           1289\n",
       " 3        Apple      apple            611\n",
       " 4       TikTok     tiktok            251\n",
       " ..         ...        ...            ...\n",
       " 400     Pickrr     pickrr              1\n",
       " 401      Unbxd      unbxd              1\n",
       " 402      Polar      polar              1\n",
       " 403    Clutter    clutter              1\n",
       " 404    purplle    purplle              1\n",
       " \n",
       " [405 rows x 3 columns],\n",
       " 'questions':        QID                                              title  \\\n",
       " 0        1                                            Two Sum   \n",
       " 1        2                                    Add Two Numbers   \n",
       " 2        3     Longest Substring Without Repeating Characters   \n",
       " 3        4                        Median of Two Sorted Arrays   \n",
       " 4        5                      Longest Palindromic Substring   \n",
       " ...    ...                                                ...   \n",
       " 2888  2889                                Reshape Data: Pivot   \n",
       " 2889  2890                                 Reshape Data: Melt   \n",
       " 2890  2891                                    Method Chaining   \n",
       " 2891  2892  Minimizing Array After Replacing Pairs With Th...   \n",
       " 2892  2893              Calculate Orders Within Each Interval   \n",
       " \n",
       "                                               titleSlug difficulty  \\\n",
       " 0                                               two-sum       Easy   \n",
       " 1                                       add-two-numbers     Medium   \n",
       " 2        longest-substring-without-repeating-characters     Medium   \n",
       " 3                           median-of-two-sorted-arrays       Hard   \n",
       " 4                         longest-palindromic-substring     Medium   \n",
       " ...                                                 ...        ...   \n",
       " 2888                                 reshape-data-pivot       Easy   \n",
       " 2889                                  reshape-data-melt       Easy   \n",
       " 2890                                    method-chaining       Easy   \n",
       " 2891  minimizing-array-after-replacing-pairs-with-th...     Medium   \n",
       " 2892              calculate-orders-within-each-interval     Medium   \n",
       " \n",
       "       acceptanceRate  paidOnly                               topicTags  \\\n",
       " 0          50.795676     False                        array,hash-table   \n",
       " 1          41.318160     False              linked-list,math,recursion   \n",
       " 2          34.040422     False        hash-table,string,sliding-window   \n",
       " 3          38.088562     False  array,binary-search,divide-and-conquer   \n",
       " 4          32.800107     False              string,dynamic-programming   \n",
       " ...              ...       ...                                     ...   \n",
       " 2888       83.479349     False                                           \n",
       " 2889       86.563307     False                                           \n",
       " 2890       74.474187     False                                           \n",
       " 2891       43.700787      True                                           \n",
       " 2892       86.666667      True                                           \n",
       " \n",
       "      categorySlug  \n",
       " 0      algorithms  \n",
       " 1      algorithms  \n",
       " 2      algorithms  \n",
       " 3      algorithms  \n",
       " 4      algorithms  \n",
       " ...           ...  \n",
       " 2888   algorithms  \n",
       " 2889   algorithms  \n",
       " 2890   algorithms  \n",
       " 2891   algorithms  \n",
       " 2892     database  \n",
       " \n",
       " [2893 rows x 8 columns],\n",
       " 'questionTopics':        QID              tagSlug\n",
       " 0        1                array\n",
       " 1        1           hash-table\n",
       " 2        2          linked-list\n",
       " 3        2                 math\n",
       " 4        2            recursion\n",
       " ...    ...                  ...\n",
       " 8383  2875       sliding-window\n",
       " 8384  2875           prefix-sum\n",
       " 8385  2876  dynamic-programming\n",
       " 8386  2876                graph\n",
       " 8387  2876          memoization\n",
       " \n",
       " [8313 rows x 2 columns],\n",
       " 'categories':           slug         name\n",
       " 0   algorithms   Algorithms\n",
       " 1     database     Database\n",
       " 2        shell        Shell\n",
       " 3  concurrency  Concurrency,\n",
       " 'topicTags':                             slug                          name\n",
       " 0                          array                         Array\n",
       " 1                         string                        String\n",
       " 2                     hash-table                    Hash Table\n",
       " 3            dynamic-programming           Dynamic Programming\n",
       " 4                           math                          Math\n",
       " ..                           ...                           ...\n",
       " 66              eulerian-circuit              Eulerian Circuit\n",
       " 67                    radix-sort                    Radix Sort\n",
       " 68  strongly-connected-component  Strongly Connected Component\n",
       " 69            rejection-sampling            Rejection Sampling\n",
       " 70         biconnected-component         Biconnected Component\n",
       " \n",
       " [71 rows x 2 columns],\n",
       " 'questionCategory':        QID categorySlug\n",
       " 0        1   algorithms\n",
       " 1        2   algorithms\n",
       " 2        3   algorithms\n",
       " 3        4   algorithms\n",
       " 4        5   algorithms\n",
       " ...    ...          ...\n",
       " 2821  1188  concurrency\n",
       " 2822  1195  concurrency\n",
       " 2823  1226  concurrency\n",
       " 2824  1242  concurrency\n",
       " 2825  1279  concurrency\n",
       " \n",
       " [2826 rows x 2 columns]}"
      ]
     },
     "execution_count": 7,
     "metadata": {},
     "output_type": "execute_result"
    }
   ],
   "source": [
    "vars(ls)"
   ]
  },
  {
   "cell_type": "code",
   "execution_count": 8,
   "metadata": {},
   "outputs": [],
   "source": [
    "import duckdb\n",
    "\n",
    "con = duckdb.connect('questions.db')"
   ]
  },
  {
   "cell_type": "code",
   "execution_count": 13,
   "metadata": {},
   "outputs": [],
   "source": [
    "import pandas as pd\n",
    "questions = ls.questions\n",
    "duckdb.sql('CREATE TABLE leetcode AS SELECT * FROM questions')"
   ]
  },
  {
   "cell_type": "code",
   "execution_count": 15,
   "metadata": {},
   "outputs": [
    {
     "data": {
      "text/plain": [
       "┌─────────┬──────────────────────┬──────────────────────┬───┬──────────┬──────────────────────┬──────────────┐\n",
       "│   QID   │        title         │      titleSlug       │ … │ paidOnly │      topicTags       │ categorySlug │\n",
       "│ varchar │       varchar        │       varchar        │   │ boolean  │       varchar        │   varchar    │\n",
       "├─────────┼──────────────────────┼──────────────────────┼───┼──────────┼──────────────────────┼──────────────┤\n",
       "│ 1       │ Two Sum              │ two-sum              │ … │ false    │ array,hash-table     │ algorithms   │\n",
       "│ 2       │ Add Two Numbers      │ add-two-numbers      │ … │ false    │ linked-list,math,r…  │ algorithms   │\n",
       "│ 3       │ Longest Substring …  │ longest-substring-…  │ … │ false    │ hash-table,string,…  │ algorithms   │\n",
       "│ 4       │ Median of Two Sort…  │ median-of-two-sort…  │ … │ false    │ array,binary-searc…  │ algorithms   │\n",
       "│ 5       │ Longest Palindromi…  │ longest-palindromi…  │ … │ false    │ string,dynamic-pro…  │ algorithms   │\n",
       "│ 6       │ Zigzag Conversion    │ zigzag-conversion    │ … │ false    │ string               │ algorithms   │\n",
       "│ 7       │ Reverse Integer      │ reverse-integer      │ … │ false    │ math                 │ algorithms   │\n",
       "│ 8       │ String to Integer …  │ string-to-integer-…  │ … │ false    │ string               │ algorithms   │\n",
       "│ 9       │ Palindrome Number    │ palindrome-number    │ … │ false    │ math                 │ algorithms   │\n",
       "│ 10      │ Regular Expression…  │ regular-expression…  │ … │ false    │ string,dynamic-pro…  │ algorithms   │\n",
       "├─────────┴──────────────────────┴──────────────────────┴───┴──────────┴──────────────────────┴──────────────┤\n",
       "│ 10 rows                                                                                8 columns (6 shown) │\n",
       "└────────────────────────────────────────────────────────────────────────────────────────────────────────────┘"
      ]
     },
     "execution_count": 15,
     "metadata": {},
     "output_type": "execute_result"
    }
   ],
   "source": [
    "duckdb.sql('SELECT * FROM leetcode limit 10')"
   ]
  },
  {
   "cell_type": "code",
   "execution_count": 16,
   "metadata": {},
   "outputs": [
    {
     "data": {
      "text/plain": [
       "┌────────────────┬─────────────┬─────────┬─────────┬─────────┬───────┐\n",
       "│  column_name   │ column_type │  null   │   key   │ default │ extra │\n",
       "│    varchar     │   varchar   │ varchar │ varchar │ varchar │ int32 │\n",
       "├────────────────┼─────────────┼─────────┼─────────┼─────────┼───────┤\n",
       "│ QID            │ VARCHAR     │ YES     │ NULL    │ NULL    │  NULL │\n",
       "│ title          │ VARCHAR     │ YES     │ NULL    │ NULL    │  NULL │\n",
       "│ titleSlug      │ VARCHAR     │ YES     │ NULL    │ NULL    │  NULL │\n",
       "│ difficulty     │ VARCHAR     │ YES     │ NULL    │ NULL    │  NULL │\n",
       "│ acceptanceRate │ DOUBLE      │ YES     │ NULL    │ NULL    │  NULL │\n",
       "│ paidOnly       │ BOOLEAN     │ YES     │ NULL    │ NULL    │  NULL │\n",
       "│ topicTags      │ VARCHAR     │ YES     │ NULL    │ NULL    │  NULL │\n",
       "│ categorySlug   │ VARCHAR     │ YES     │ NULL    │ NULL    │  NULL │\n",
       "└────────────────┴─────────────┴─────────┴─────────┴─────────┴───────┘"
      ]
     },
     "execution_count": 16,
     "metadata": {},
     "output_type": "execute_result"
    }
   ],
   "source": [
    "duckdb.sql('describe leetcode')"
   ]
  },
  {
   "cell_type": "code",
   "execution_count": null,
   "metadata": {},
   "outputs": [],
   "source": []
  }
 ],
 "metadata": {
  "kernelspec": {
   "display_name": "toyproblems",
   "language": "python",
   "name": "python3"
  },
  "language_info": {
   "codemirror_mode": {
    "name": "ipython",
    "version": 3
   },
   "file_extension": ".py",
   "mimetype": "text/x-python",
   "name": "python",
   "nbconvert_exporter": "python",
   "pygments_lexer": "ipython3",
   "version": "3.11.5"
  },
  "orig_nbformat": 4
 },
 "nbformat": 4,
 "nbformat_minor": 2
}

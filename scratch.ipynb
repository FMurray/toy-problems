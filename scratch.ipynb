{
 "cells": [
  {
   "cell_type": "code",
   "execution_count": 2,
   "metadata": {},
   "outputs": [],
   "source": [
    "from leetscrape.GetQuestionsList import GetQuestionsList"
   ]
  },
  {
   "cell_type": "code",
   "execution_count": 3,
   "metadata": {},
   "outputs": [],
   "source": [
    "ls = GetQuestionsList()"
   ]
  },
  {
   "cell_type": "code",
   "execution_count": 4,
   "metadata": {},
   "outputs": [
    {
     "name": "stdout",
     "output_type": "stream",
     "text": [
      "Scraping companies ... Done\n",
      "Scraping questions list ... Done\n",
      "Extracting question topics ... Done\n",
      "Getting Categories ... Done\n",
      "Scraping Topic Tags ... Done\n",
      "Extracting question category ... Done\n"
     ]
    }
   ],
   "source": [
    "ls.scrape()"
   ]
  },
  {
   "cell_type": "code",
   "execution_count": 5,
   "metadata": {},
   "outputs": [
    {
     "data": {
      "text/plain": [
       "{'limit': 10000,\n",
       " 'companies':           name       slug  questionCount\n",
       " 0     Facebook   facebook            640\n",
       " 1    Bloomberg  bloomberg            561\n",
       " 2       Amazon     amazon           1289\n",
       " 3        Apple      apple            611\n",
       " 4       TikTok     tiktok            251\n",
       " ..         ...        ...            ...\n",
       " 400     Pickrr     pickrr              1\n",
       " 401      Unbxd      unbxd              1\n",
       " 402      Polar      polar              1\n",
       " 403    Clutter    clutter              1\n",
       " 404    purplle    purplle              1\n",
       " \n",
       " [405 rows x 3 columns],\n",
       " 'questions':        QID                                              title  \\\n",
       " 0        1                                            Two Sum   \n",
       " 1        2                                    Add Two Numbers   \n",
       " 2        3     Longest Substring Without Repeating Characters   \n",
       " 3        4                        Median of Two Sorted Arrays   \n",
       " 4        5                      Longest Palindromic Substring   \n",
       " ...    ...                                                ...   \n",
       " 2888  2889                                Reshape Data: Pivot   \n",
       " 2889  2890                                 Reshape Data: Melt   \n",
       " 2890  2891                                    Method Chaining   \n",
       " 2891  2892  Minimizing Array After Replacing Pairs With Th...   \n",
       " 2892  2893              Calculate Orders Within Each Interval   \n",
       " \n",
       "                                               titleSlug difficulty  \\\n",
       " 0                                               two-sum       Easy   \n",
       " 1                                       add-two-numbers     Medium   \n",
       " 2        longest-substring-without-repeating-characters     Medium   \n",
       " 3                           median-of-two-sorted-arrays       Hard   \n",
       " 4                         longest-palindromic-substring     Medium   \n",
       " ...                                                 ...        ...   \n",
       " 2888                                 reshape-data-pivot       Easy   \n",
       " 2889                                  reshape-data-melt       Easy   \n",
       " 2890                                    method-chaining       Easy   \n",
       " 2891  minimizing-array-after-replacing-pairs-with-th...     Medium   \n",
       " 2892              calculate-orders-within-each-interval     Medium   \n",
       " \n",
       "       acceptanceRate  paidOnly                               topicTags  \\\n",
       " 0          50.796176     False                        array,hash-table   \n",
       " 1          41.318349     False              linked-list,math,recursion   \n",
       " 2          34.040660     False        hash-table,string,sliding-window   \n",
       " 3          38.088872     False  array,binary-search,divide-and-conquer   \n",
       " 4          32.800383     False              string,dynamic-programming   \n",
       " ...              ...       ...                                     ...   \n",
       " 2888       83.703704     False                                           \n",
       " 2889       86.785260     False                                           \n",
       " 2890       74.456008     False                                           \n",
       " 2891       43.835616      True                                           \n",
       " 2892       86.111111      True                                           \n",
       " \n",
       "      categorySlug  \n",
       " 0      algorithms  \n",
       " 1      algorithms  \n",
       " 2      algorithms  \n",
       " 3      algorithms  \n",
       " 4      algorithms  \n",
       " ...           ...  \n",
       " 2888   algorithms  \n",
       " 2889   algorithms  \n",
       " 2890   algorithms  \n",
       " 2891   algorithms  \n",
       " 2892     database  \n",
       " \n",
       " [2893 rows x 8 columns],\n",
       " 'questionTopics':        QID              tagSlug\n",
       " 0        1                array\n",
       " 1        1           hash-table\n",
       " 2        2          linked-list\n",
       " 3        2                 math\n",
       " 4        2            recursion\n",
       " ...    ...                  ...\n",
       " 8383  2875       sliding-window\n",
       " 8384  2875           prefix-sum\n",
       " 8385  2876  dynamic-programming\n",
       " 8386  2876                graph\n",
       " 8387  2876          memoization\n",
       " \n",
       " [8313 rows x 2 columns],\n",
       " 'categories':           slug         name\n",
       " 0   algorithms   Algorithms\n",
       " 1     database     Database\n",
       " 2        shell        Shell\n",
       " 3  concurrency  Concurrency,\n",
       " 'topicTags':                             slug                          name\n",
       " 0                          array                         Array\n",
       " 1                         string                        String\n",
       " 2                     hash-table                    Hash Table\n",
       " 3            dynamic-programming           Dynamic Programming\n",
       " 4                           math                          Math\n",
       " ..                           ...                           ...\n",
       " 66              eulerian-circuit              Eulerian Circuit\n",
       " 67                    radix-sort                    Radix Sort\n",
       " 68  strongly-connected-component  Strongly Connected Component\n",
       " 69            rejection-sampling            Rejection Sampling\n",
       " 70         biconnected-component         Biconnected Component\n",
       " \n",
       " [71 rows x 2 columns],\n",
       " 'questionCategory':        QID categorySlug\n",
       " 0        1   algorithms\n",
       " 1        2   algorithms\n",
       " 2        3   algorithms\n",
       " 3        4   algorithms\n",
       " 4        5   algorithms\n",
       " ...    ...          ...\n",
       " 2821  1188  concurrency\n",
       " 2822  1195  concurrency\n",
       " 2823  1226  concurrency\n",
       " 2824  1242  concurrency\n",
       " 2825  1279  concurrency\n",
       " \n",
       " [2826 rows x 2 columns]}"
      ]
     },
     "execution_count": 5,
     "metadata": {},
     "output_type": "execute_result"
    }
   ],
   "source": [
    "vars(ls)"
   ]
  },
  {
   "cell_type": "code",
   "execution_count": 1,
   "metadata": {},
   "outputs": [],
   "source": [
    "import duckdb\n",
    "\n",
    "con = duckdb.connect('questions.db')\n"
   ]
  },
  {
   "cell_type": "code",
   "execution_count": 5,
   "metadata": {},
   "outputs": [],
   "source": [
    "con.close()"
   ]
  },
  {
   "cell_type": "code",
   "execution_count": 3,
   "metadata": {},
   "outputs": [],
   "source": [
    "from db import get_algorithms"
   ]
  },
  {
   "cell_type": "code",
   "execution_count": 4,
   "metadata": {},
   "outputs": [
    {
     "data": {
      "text/html": [
       "<div>\n",
       "<style scoped>\n",
       "    .dataframe tbody tr th:only-of-type {\n",
       "        vertical-align: middle;\n",
       "    }\n",
       "\n",
       "    .dataframe tbody tr th {\n",
       "        vertical-align: top;\n",
       "    }\n",
       "\n",
       "    .dataframe thead th {\n",
       "        text-align: right;\n",
       "    }\n",
       "</style>\n",
       "<table border=\"1\" class=\"dataframe\">\n",
       "  <thead>\n",
       "    <tr style=\"text-align: right;\">\n",
       "      <th></th>\n",
       "      <th>types</th>\n",
       "    </tr>\n",
       "  </thead>\n",
       "  <tbody>\n",
       "    <tr>\n",
       "      <th>0</th>\n",
       "      <td>[divide_and_conquer, greedy, dynamic_programmi...</td>\n",
       "    </tr>\n",
       "  </tbody>\n",
       "</table>\n",
       "</div>"
      ],
      "text/plain": [
       "                                               types\n",
       "0  [divide_and_conquer, greedy, dynamic_programmi..."
      ]
     },
     "execution_count": 4,
     "metadata": {},
     "output_type": "execute_result"
    }
   ],
   "source": [
    "get_algorithms()"
   ]
  },
  {
   "cell_type": "code",
   "execution_count": 111,
   "metadata": {},
   "outputs": [],
   "source": [
    "import pandas as pd\n",
    "\n",
    "alg_types = pd.DataFrame([{\n",
    "  'types': ['divide_and_conquer', 'greedy', 'dynamic_programming', 'graph', 'recursion']\n",
    "}])"
   ]
  },
  {
   "cell_type": "code",
   "execution_count": 112,
   "metadata": {},
   "outputs": [],
   "source": [
    "con.sql(\"CREATE TABLE algorithms as select * from alg_types\")"
   ]
  },
  {
   "cell_type": "code",
   "execution_count": 101,
   "metadata": {},
   "outputs": [
    {
     "data": {
      "text/plain": [
       "┌────────────────┬─────────────┬─────────┬─────────┬─────────┬───────┐\n",
       "│  column_name   │ column_type │  null   │   key   │ default │ extra │\n",
       "│    varchar     │   varchar   │ varchar │ varchar │ varchar │ int32 │\n",
       "├────────────────┼─────────────┼─────────┼─────────┼─────────┼───────┤\n",
       "│ QID            │ VARCHAR     │ YES     │ NULL    │ NULL    │  NULL │\n",
       "│ title          │ VARCHAR     │ YES     │ NULL    │ NULL    │  NULL │\n",
       "│ titleSlug      │ VARCHAR     │ YES     │ NULL    │ NULL    │  NULL │\n",
       "│ difficulty     │ VARCHAR     │ YES     │ NULL    │ NULL    │  NULL │\n",
       "│ acceptanceRate │ DOUBLE      │ YES     │ NULL    │ NULL    │  NULL │\n",
       "│ paidOnly       │ BOOLEAN     │ YES     │ NULL    │ NULL    │  NULL │\n",
       "│ topicTags      │ VARCHAR     │ YES     │ NULL    │ NULL    │  NULL │\n",
       "│ categorySlug   │ VARCHAR     │ YES     │ NULL    │ NULL    │  NULL │\n",
       "└────────────────┴─────────────┴─────────┴─────────┴─────────┴───────┘"
      ]
     },
     "execution_count": 101,
     "metadata": {},
     "output_type": "execute_result"
    }
   ],
   "source": [
    "con.sql(\"DESCRIBE leetcode\")"
   ]
  },
  {
   "cell_type": "code",
   "execution_count": 107,
   "metadata": {},
   "outputs": [],
   "source": [
    "# con.sql(\"DESCRIBE leetcode\")\n",
    "con.sql(\"UPDATE leetcode SET algorithm='greedy', data_structures='hash-map' WHERE QID = '1'\")"
   ]
  },
  {
   "cell_type": "code",
   "execution_count": 64,
   "metadata": {},
   "outputs": [
    {
     "data": {
      "text/plain": [
       "┌───────┬─────────┬────────────┬──────────────────────┬───────────────────┬────────────────────────────────────────────┐\n",
       "│  id   │  title  │ difficulty │         link         │       tags        │                  content                   │\n",
       "│ int32 │ varchar │  varchar   │       varchar        │      varchar      │                  varchar                   │\n",
       "├───────┼─────────┼────────────┼──────────────────────┼───────────────────┼────────────────────────────────────────────┤\n",
       "│     1 │ Two Sum │ Easy       │ https://leetcode.c…  │ Array, Hash Table │ Given an array of integers nums and an i…  │\n",
       "└───────┴─────────┴────────────┴──────────────────────┴───────────────────┴────────────────────────────────────────────┘"
      ]
     },
     "execution_count": 64,
     "metadata": {},
     "output_type": "execute_result"
    }
   ],
   "source": [
    "new_records = ['2']\n",
    "\n",
    "duckdb.sql(\"select * from content where id in ('1')\")"
   ]
  },
  {
   "cell_type": "code",
   "execution_count": 34,
   "metadata": {},
   "outputs": [],
   "source": [
    "duckdb.sql('CREATE TABLE content (id INTEGER PRIMARY KEY, title VARCHAR(255), difficulty VARCHAR(255), link VARCHAR(255), tags VARCHAR(255), content VARCHAR(255))')"
   ]
  },
  {
   "cell_type": "code",
   "execution_count": 35,
   "metadata": {},
   "outputs": [
    {
     "data": {
      "text/plain": [
       "┌─────────────┬─────────────┬─────────┬─────────┬─────────┬───────┐\n",
       "│ column_name │ column_type │  null   │   key   │ default │ extra │\n",
       "│   varchar   │   varchar   │ varchar │ varchar │ varchar │ int32 │\n",
       "├─────────────┼─────────────┼─────────┼─────────┼─────────┼───────┤\n",
       "│ id          │ INTEGER     │ NO      │ PRI     │ NULL    │  NULL │\n",
       "│ title       │ VARCHAR     │ YES     │ NULL    │ NULL    │  NULL │\n",
       "│ difficulty  │ VARCHAR     │ YES     │ NULL    │ NULL    │  NULL │\n",
       "│ link        │ VARCHAR     │ YES     │ NULL    │ NULL    │  NULL │\n",
       "│ tags        │ VARCHAR     │ YES     │ NULL    │ NULL    │  NULL │\n",
       "│ content     │ VARCHAR     │ YES     │ NULL    │ NULL    │  NULL │\n",
       "└─────────────┴─────────────┴─────────┴─────────┴─────────┴───────┘"
      ]
     },
     "execution_count": 35,
     "metadata": {},
     "output_type": "execute_result"
    }
   ],
   "source": [
    "duckdb.sql('DESCRIBE content')"
   ]
  },
  {
   "cell_type": "code",
   "execution_count": 43,
   "metadata": {},
   "outputs": [
    {
     "data": {
      "text/html": [
       "<div>\n",
       "<style scoped>\n",
       "    .dataframe tbody tr th:only-of-type {\n",
       "        vertical-align: middle;\n",
       "    }\n",
       "\n",
       "    .dataframe tbody tr th {\n",
       "        vertical-align: top;\n",
       "    }\n",
       "\n",
       "    .dataframe thead th {\n",
       "        text-align: right;\n",
       "    }\n",
       "</style>\n",
       "<table border=\"1\" class=\"dataframe\">\n",
       "  <thead>\n",
       "    <tr style=\"text-align: right;\">\n",
       "      <th></th>\n",
       "      <th>QID</th>\n",
       "      <th>title</th>\n",
       "      <th>titleSlug</th>\n",
       "      <th>difficulty</th>\n",
       "      <th>acceptanceRate</th>\n",
       "      <th>paidOnly</th>\n",
       "      <th>topicTags</th>\n",
       "      <th>categorySlug</th>\n",
       "    </tr>\n",
       "  </thead>\n",
       "  <tbody>\n",
       "    <tr>\n",
       "      <th>0</th>\n",
       "      <td>1</td>\n",
       "      <td>Two Sum</td>\n",
       "      <td>two-sum</td>\n",
       "      <td>Easy</td>\n",
       "      <td>50.796176</td>\n",
       "      <td>False</td>\n",
       "      <td>array,hash-table</td>\n",
       "      <td>algorithms</td>\n",
       "    </tr>\n",
       "    <tr>\n",
       "      <th>1</th>\n",
       "      <td>2</td>\n",
       "      <td>Add Two Numbers</td>\n",
       "      <td>add-two-numbers</td>\n",
       "      <td>Medium</td>\n",
       "      <td>41.318349</td>\n",
       "      <td>False</td>\n",
       "      <td>linked-list,math,recursion</td>\n",
       "      <td>algorithms</td>\n",
       "    </tr>\n",
       "    <tr>\n",
       "      <th>2</th>\n",
       "      <td>3</td>\n",
       "      <td>Longest Substring Without Repeating Characters</td>\n",
       "      <td>longest-substring-without-repeating-characters</td>\n",
       "      <td>Medium</td>\n",
       "      <td>34.040660</td>\n",
       "      <td>False</td>\n",
       "      <td>hash-table,string,sliding-window</td>\n",
       "      <td>algorithms</td>\n",
       "    </tr>\n",
       "    <tr>\n",
       "      <th>3</th>\n",
       "      <td>4</td>\n",
       "      <td>Median of Two Sorted Arrays</td>\n",
       "      <td>median-of-two-sorted-arrays</td>\n",
       "      <td>Hard</td>\n",
       "      <td>38.088872</td>\n",
       "      <td>False</td>\n",
       "      <td>array,binary-search,divide-and-conquer</td>\n",
       "      <td>algorithms</td>\n",
       "    </tr>\n",
       "    <tr>\n",
       "      <th>4</th>\n",
       "      <td>5</td>\n",
       "      <td>Longest Palindromic Substring</td>\n",
       "      <td>longest-palindromic-substring</td>\n",
       "      <td>Medium</td>\n",
       "      <td>32.800383</td>\n",
       "      <td>False</td>\n",
       "      <td>string,dynamic-programming</td>\n",
       "      <td>algorithms</td>\n",
       "    </tr>\n",
       "    <tr>\n",
       "      <th>...</th>\n",
       "      <td>...</td>\n",
       "      <td>...</td>\n",
       "      <td>...</td>\n",
       "      <td>...</td>\n",
       "      <td>...</td>\n",
       "      <td>...</td>\n",
       "      <td>...</td>\n",
       "      <td>...</td>\n",
       "    </tr>\n",
       "    <tr>\n",
       "      <th>2888</th>\n",
       "      <td>2889</td>\n",
       "      <td>Reshape Data: Pivot</td>\n",
       "      <td>reshape-data-pivot</td>\n",
       "      <td>Easy</td>\n",
       "      <td>83.703704</td>\n",
       "      <td>False</td>\n",
       "      <td></td>\n",
       "      <td>algorithms</td>\n",
       "    </tr>\n",
       "    <tr>\n",
       "      <th>2889</th>\n",
       "      <td>2890</td>\n",
       "      <td>Reshape Data: Melt</td>\n",
       "      <td>reshape-data-melt</td>\n",
       "      <td>Easy</td>\n",
       "      <td>86.785260</td>\n",
       "      <td>False</td>\n",
       "      <td></td>\n",
       "      <td>algorithms</td>\n",
       "    </tr>\n",
       "    <tr>\n",
       "      <th>2890</th>\n",
       "      <td>2891</td>\n",
       "      <td>Method Chaining</td>\n",
       "      <td>method-chaining</td>\n",
       "      <td>Easy</td>\n",
       "      <td>74.456008</td>\n",
       "      <td>False</td>\n",
       "      <td></td>\n",
       "      <td>algorithms</td>\n",
       "    </tr>\n",
       "    <tr>\n",
       "      <th>2891</th>\n",
       "      <td>2892</td>\n",
       "      <td>Minimizing Array After Replacing Pairs With Th...</td>\n",
       "      <td>minimizing-array-after-replacing-pairs-with-th...</td>\n",
       "      <td>Medium</td>\n",
       "      <td>43.835616</td>\n",
       "      <td>True</td>\n",
       "      <td></td>\n",
       "      <td>algorithms</td>\n",
       "    </tr>\n",
       "    <tr>\n",
       "      <th>2892</th>\n",
       "      <td>2893</td>\n",
       "      <td>Calculate Orders Within Each Interval</td>\n",
       "      <td>calculate-orders-within-each-interval</td>\n",
       "      <td>Medium</td>\n",
       "      <td>86.111111</td>\n",
       "      <td>True</td>\n",
       "      <td></td>\n",
       "      <td>database</td>\n",
       "    </tr>\n",
       "  </tbody>\n",
       "</table>\n",
       "<p>2893 rows × 8 columns</p>\n",
       "</div>"
      ],
      "text/plain": [
       "       QID                                              title  \\\n",
       "0        1                                            Two Sum   \n",
       "1        2                                    Add Two Numbers   \n",
       "2        3     Longest Substring Without Repeating Characters   \n",
       "3        4                        Median of Two Sorted Arrays   \n",
       "4        5                      Longest Palindromic Substring   \n",
       "...    ...                                                ...   \n",
       "2888  2889                                Reshape Data: Pivot   \n",
       "2889  2890                                 Reshape Data: Melt   \n",
       "2890  2891                                    Method Chaining   \n",
       "2891  2892  Minimizing Array After Replacing Pairs With Th...   \n",
       "2892  2893              Calculate Orders Within Each Interval   \n",
       "\n",
       "                                              titleSlug difficulty  \\\n",
       "0                                               two-sum       Easy   \n",
       "1                                       add-two-numbers     Medium   \n",
       "2        longest-substring-without-repeating-characters     Medium   \n",
       "3                           median-of-two-sorted-arrays       Hard   \n",
       "4                         longest-palindromic-substring     Medium   \n",
       "...                                                 ...        ...   \n",
       "2888                                 reshape-data-pivot       Easy   \n",
       "2889                                  reshape-data-melt       Easy   \n",
       "2890                                    method-chaining       Easy   \n",
       "2891  minimizing-array-after-replacing-pairs-with-th...     Medium   \n",
       "2892              calculate-orders-within-each-interval     Medium   \n",
       "\n",
       "      acceptanceRate  paidOnly                               topicTags  \\\n",
       "0          50.796176     False                        array,hash-table   \n",
       "1          41.318349     False              linked-list,math,recursion   \n",
       "2          34.040660     False        hash-table,string,sliding-window   \n",
       "3          38.088872     False  array,binary-search,divide-and-conquer   \n",
       "4          32.800383     False              string,dynamic-programming   \n",
       "...              ...       ...                                     ...   \n",
       "2888       83.703704     False                                           \n",
       "2889       86.785260     False                                           \n",
       "2890       74.456008     False                                           \n",
       "2891       43.835616      True                                           \n",
       "2892       86.111111      True                                           \n",
       "\n",
       "     categorySlug  \n",
       "0      algorithms  \n",
       "1      algorithms  \n",
       "2      algorithms  \n",
       "3      algorithms  \n",
       "4      algorithms  \n",
       "...           ...  \n",
       "2888   algorithms  \n",
       "2889   algorithms  \n",
       "2890   algorithms  \n",
       "2891   algorithms  \n",
       "2892     database  \n",
       "\n",
       "[2893 rows x 8 columns]"
      ]
     },
     "execution_count": 43,
     "metadata": {},
     "output_type": "execute_result"
    }
   ],
   "source": [
    "ls.questions"
   ]
  },
  {
   "cell_type": "code",
   "execution_count": 39,
   "metadata": {},
   "outputs": [],
   "source": [
    "some_data = {\n",
    "    'id': \"1\",\n",
    "    'title': 'Two Sum',\n",
    "    'difficulty': 'Easy',\n",
    "    'link': 'https://leetcode.com/problems/two-sum/',\n",
    "    'tags': 'Array, Hash Table',\n",
    "    'content': 'Given an array of integers nums and an integer target, return indices of the two numbers such that they add up to target.'\n",
    "}"
   ]
  },
  {
   "cell_type": "code",
   "execution_count": 49,
   "metadata": {},
   "outputs": [
    {
     "data": {
      "text/plain": [
       "('1',\n",
       " 'Two Sum',\n",
       " 'Easy',\n",
       " 'https://leetcode.com/problems/two-sum/',\n",
       " 'Array, Hash Table',\n",
       " 'Given an array of integers nums and an integer target, return indices of the two numbers such that they add up to target.')"
      ]
     },
     "execution_count": 49,
     "metadata": {},
     "output_type": "execute_result"
    }
   ],
   "source": [
    "# extract the values for insert from the dictionary\n",
    "\n",
    "values = tuple(some_data.values())"
   ]
  },
  {
   "cell_type": "code",
   "execution_count": 51,
   "metadata": {},
   "outputs": [
    {
     "data": {
      "text/plain": [
       "\"INSERT INTO content VALUES ('1', 'Two Sum', 'Easy', 'https://leetcode.com/problems/two-sum/', 'Array, Hash Table', 'Given an array of integers nums and an integer target, return indices of the two numbers such that they add up to target.')\""
      ]
     },
     "execution_count": 51,
     "metadata": {},
     "output_type": "execute_result"
    }
   ],
   "source": [
    "# build an insert statement from the some_data dictionary\n",
    "\n",
    "insert_statement = 'INSERT INTO content VALUES {}'.format(values)\n",
    "insert_statement"
   ]
  },
  {
   "cell_type": "code",
   "execution_count": 52,
   "metadata": {},
   "outputs": [],
   "source": [
    "duckdb.sql(insert_statement)"
   ]
  },
  {
   "cell_type": "code",
   "execution_count": 53,
   "metadata": {},
   "outputs": [
    {
     "data": {
      "text/plain": [
       "┌───────┬─────────┬────────────┬──────────────────────┬───────────────────┬────────────────────────────────────────────┐\n",
       "│  id   │  title  │ difficulty │         link         │       tags        │                  content                   │\n",
       "│ int32 │ varchar │  varchar   │       varchar        │      varchar      │                  varchar                   │\n",
       "├───────┼─────────┼────────────┼──────────────────────┼───────────────────┼────────────────────────────────────────────┤\n",
       "│     1 │ Two Sum │ Easy       │ https://leetcode.c…  │ Array, Hash Table │ Given an array of integers nums and an i…  │\n",
       "└───────┴─────────┴────────────┴──────────────────────┴───────────────────┴────────────────────────────────────────────┘"
      ]
     },
     "execution_count": 53,
     "metadata": {},
     "output_type": "execute_result"
    }
   ],
   "source": [
    "duckdb.sql('SELECT * FROM content')"
   ]
  },
  {
   "cell_type": "code",
   "execution_count": 72,
   "metadata": {},
   "outputs": [],
   "source": [
    "import pandas as pd\n",
    "questions = ls.questions\n",
    "\n",
    "con.sql('CREATE TABLE leetcode AS SELECT * FROM questions')\n",
    "\n",
    "# con.sql('INSERT INTO leetcode SELECT * FROM questions')"
   ]
  },
  {
   "cell_type": "code",
   "execution_count": null,
   "metadata": {},
   "outputs": [],
   "source": []
  },
  {
   "cell_type": "code",
   "execution_count": 109,
   "metadata": {},
   "outputs": [],
   "source": [
    "con.close()"
   ]
  },
  {
   "cell_type": "code",
   "execution_count": 30,
   "metadata": {},
   "outputs": [
    {
     "data": {
      "text/plain": [
       "┌─────────┬──────────────────────┬──────────────────────┬───┬──────────┬──────────────────────┬──────────────┐\n",
       "│   QID   │        title         │      titleSlug       │ … │ paidOnly │      topicTags       │ categorySlug │\n",
       "│ varchar │       varchar        │       varchar        │   │ boolean  │       varchar        │   varchar    │\n",
       "├─────────┼──────────────────────┼──────────────────────┼───┼──────────┼──────────────────────┼──────────────┤\n",
       "│ 1       │ Two Sum              │ two-sum              │ … │ false    │ array,hash-table     │ algorithms   │\n",
       "│ 2       │ Add Two Numbers      │ add-two-numbers      │ … │ false    │ linked-list,math,r…  │ algorithms   │\n",
       "│ 3       │ Longest Substring …  │ longest-substring-…  │ … │ false    │ hash-table,string,…  │ algorithms   │\n",
       "│ 4       │ Median of Two Sort…  │ median-of-two-sort…  │ … │ false    │ array,binary-searc…  │ algorithms   │\n",
       "│ 5       │ Longest Palindromi…  │ longest-palindromi…  │ … │ false    │ string,dynamic-pro…  │ algorithms   │\n",
       "│ 6       │ Zigzag Conversion    │ zigzag-conversion    │ … │ false    │ string               │ algorithms   │\n",
       "│ 7       │ Reverse Integer      │ reverse-integer      │ … │ false    │ math                 │ algorithms   │\n",
       "│ 8       │ String to Integer …  │ string-to-integer-…  │ … │ false    │ string               │ algorithms   │\n",
       "│ 9       │ Palindrome Number    │ palindrome-number    │ … │ false    │ math                 │ algorithms   │\n",
       "│ 10      │ Regular Expression…  │ regular-expression…  │ … │ false    │ string,dynamic-pro…  │ algorithms   │\n",
       "├─────────┴──────────────────────┴──────────────────────┴───┴──────────┴──────────────────────┴──────────────┤\n",
       "│ 10 rows                                                                                8 columns (6 shown) │\n",
       "└────────────────────────────────────────────────────────────────────────────────────────────────────────────┘"
      ]
     },
     "execution_count": 30,
     "metadata": {},
     "output_type": "execute_result"
    }
   ],
   "source": [
    "duckdb.sql('SELECT * FROM leetcode limit 10')"
   ]
  },
  {
   "cell_type": "code",
   "execution_count": 96,
   "metadata": {},
   "outputs": [],
   "source": [
    "q = con.sql('SELECT * FROM leetcode limit 10').fetchall()[0]"
   ]
  },
  {
   "cell_type": "code",
   "execution_count": 77,
   "metadata": {},
   "outputs": [
    {
     "data": {
      "text/plain": [
       "('1',\n",
       " 'Two Sum',\n",
       " 'two-sum',\n",
       " 'Easy',\n",
       " 50.796176077531975,\n",
       " False,\n",
       " 'array,hash-table',\n",
       " 'algorithms')"
      ]
     },
     "execution_count": 77,
     "metadata": {},
     "output_type": "execute_result"
    }
   ],
   "source": [
    "q"
   ]
  },
  {
   "cell_type": "code",
   "execution_count": 87,
   "metadata": {},
   "outputs": [],
   "source": [
    "from leetscrape.GetQuestionInfo import GetQuestionInfo"
   ]
  },
  {
   "cell_type": "code",
   "execution_count": 93,
   "metadata": {},
   "outputs": [],
   "source": [
    "q = GetQuestionInfo(q)"
   ]
  },
  {
   "cell_type": "code",
   "execution_count": 94,
   "metadata": {},
   "outputs": [
    {
     "data": {
      "text/html": [
       "<div>\n",
       "<style scoped>\n",
       "    .dataframe tbody tr th:only-of-type {\n",
       "        vertical-align: middle;\n",
       "    }\n",
       "\n",
       "    .dataframe tbody tr th {\n",
       "        vertical-align: top;\n",
       "    }\n",
       "\n",
       "    .dataframe thead th {\n",
       "        text-align: right;\n",
       "    }\n",
       "</style>\n",
       "<table border=\"1\" class=\"dataframe\">\n",
       "  <thead>\n",
       "    <tr style=\"text-align: right;\">\n",
       "      <th></th>\n",
       "      <th>QID</th>\n",
       "    </tr>\n",
       "    <tr>\n",
       "      <th>titleSlug</th>\n",
       "      <th></th>\n",
       "    </tr>\n",
       "  </thead>\n",
       "  <tbody>\n",
       "    <tr>\n",
       "      <th>two-sum</th>\n",
       "      <td>1</td>\n",
       "    </tr>\n",
       "    <tr>\n",
       "      <th>add-two-numbers</th>\n",
       "      <td>2</td>\n",
       "    </tr>\n",
       "    <tr>\n",
       "      <th>longest-substring-without-repeating-characters</th>\n",
       "      <td>3</td>\n",
       "    </tr>\n",
       "    <tr>\n",
       "      <th>median-of-two-sorted-arrays</th>\n",
       "      <td>4</td>\n",
       "    </tr>\n",
       "    <tr>\n",
       "      <th>longest-palindromic-substring</th>\n",
       "      <td>5</td>\n",
       "    </tr>\n",
       "    <tr>\n",
       "      <th>...</th>\n",
       "      <td>...</td>\n",
       "    </tr>\n",
       "    <tr>\n",
       "      <th>reshape-data-concatenate</th>\n",
       "      <td>2888</td>\n",
       "    </tr>\n",
       "    <tr>\n",
       "      <th>reshape-data-pivot</th>\n",
       "      <td>2889</td>\n",
       "    </tr>\n",
       "    <tr>\n",
       "      <th>reshape-data-melt</th>\n",
       "      <td>2890</td>\n",
       "    </tr>\n",
       "    <tr>\n",
       "      <th>method-chaining</th>\n",
       "      <td>2891</td>\n",
       "    </tr>\n",
       "    <tr>\n",
       "      <th>minimizing-array-after-replacing-pairs-with-their-product</th>\n",
       "      <td>2892</td>\n",
       "    </tr>\n",
       "  </tbody>\n",
       "</table>\n",
       "<p>2577 rows × 1 columns</p>\n",
       "</div>"
      ],
      "text/plain": [
       "                                                     QID\n",
       "titleSlug                                               \n",
       "two-sum                                                1\n",
       "add-two-numbers                                        2\n",
       "longest-substring-without-repeating-characters         3\n",
       "median-of-two-sorted-arrays                            4\n",
       "longest-palindromic-substring                          5\n",
       "...                                                  ...\n",
       "reshape-data-concatenate                            2888\n",
       "reshape-data-pivot                                  2889\n",
       "reshape-data-melt                                   2890\n",
       "method-chaining                                     2891\n",
       "minimizing-array-after-replacing-pairs-with-the...  2892\n",
       "\n",
       "[2577 rows x 1 columns]"
      ]
     },
     "execution_count": 94,
     "metadata": {},
     "output_type": "execute_result"
    }
   ],
   "source": [
    "q.questions_info"
   ]
  },
  {
   "cell_type": "code",
   "execution_count": 97,
   "metadata": {},
   "outputs": [],
   "source": [
    "import requests\n",
    "BASE_URL = \"https://leetcode.com/graphql\"\n",
    "data = {\n",
    "            \"query\": \"\"\"query questionHints($titleSlug: String!) {\n",
    "                question(titleSlug: $titleSlug) {\n",
    "                    questionFrontendId\n",
    "                    hints\n",
    "                    similarQuestions\n",
    "                    codeSnippets {\n",
    "                        lang\n",
    "                        langSlug\n",
    "                        code\n",
    "                    }\n",
    "                    content\n",
    "                }\n",
    "            }\n",
    "        \"\"\",\n",
    "            \"variables\": {\"titleSlug\": q[2]},\n",
    "        }\n",
    "req = requests.post(BASE_URL, json=data)"
   ]
  },
  {
   "cell_type": "code",
   "execution_count": 98,
   "metadata": {},
   "outputs": [
    {
     "data": {
      "text/plain": [
       "{'data': {'question': {'questionFrontendId': '1',\n",
       "   'hints': [\"A really brute force way would be to search for all possible pairs of numbers but that would be too slow. Again, it's best to try out brute force solutions for just for completeness. It is from these brute force solutions that you can come up with optimizations.\",\n",
       "    'So, if we fix one of the numbers, say <code>x</code>, we have to scan the entire array to find the next number <code>y</code> which is <code>value - x</code> where value is the input parameter. Can we change our array somehow so that this search becomes faster?',\n",
       "    'The second train of thought is, without changing the array, can we use additional space somehow? Like maybe a hash map to speed up the search?'],\n",
       "   'similarQuestions': '[{\"title\": \"3Sum\", \"titleSlug\": \"3sum\", \"difficulty\": \"Medium\", \"translatedTitle\": null}, {\"title\": \"4Sum\", \"titleSlug\": \"4sum\", \"difficulty\": \"Medium\", \"translatedTitle\": null}, {\"title\": \"Two Sum II - Input Array Is Sorted\", \"titleSlug\": \"two-sum-ii-input-array-is-sorted\", \"difficulty\": \"Medium\", \"translatedTitle\": null}, {\"title\": \"Two Sum III - Data structure design\", \"titleSlug\": \"two-sum-iii-data-structure-design\", \"difficulty\": \"Easy\", \"translatedTitle\": null}, {\"title\": \"Subarray Sum Equals K\", \"titleSlug\": \"subarray-sum-equals-k\", \"difficulty\": \"Medium\", \"translatedTitle\": null}, {\"title\": \"Two Sum IV - Input is a BST\", \"titleSlug\": \"two-sum-iv-input-is-a-bst\", \"difficulty\": \"Easy\", \"translatedTitle\": null}, {\"title\": \"Two Sum Less Than K\", \"titleSlug\": \"two-sum-less-than-k\", \"difficulty\": \"Easy\", \"translatedTitle\": null}, {\"title\": \"Max Number of K-Sum Pairs\", \"titleSlug\": \"max-number-of-k-sum-pairs\", \"difficulty\": \"Medium\", \"translatedTitle\": null}, {\"title\": \"Count Good Meals\", \"titleSlug\": \"count-good-meals\", \"difficulty\": \"Medium\", \"translatedTitle\": null}, {\"title\": \"Count Number of Pairs With Absolute Difference K\", \"titleSlug\": \"count-number-of-pairs-with-absolute-difference-k\", \"difficulty\": \"Easy\", \"translatedTitle\": null}, {\"title\": \"Number of Pairs of Strings With Concatenation Equal to Target\", \"titleSlug\": \"number-of-pairs-of-strings-with-concatenation-equal-to-target\", \"difficulty\": \"Medium\", \"translatedTitle\": null}, {\"title\": \"Find All K-Distant Indices in an Array\", \"titleSlug\": \"find-all-k-distant-indices-in-an-array\", \"difficulty\": \"Easy\", \"translatedTitle\": null}, {\"title\": \"First Letter to Appear Twice\", \"titleSlug\": \"first-letter-to-appear-twice\", \"difficulty\": \"Easy\", \"translatedTitle\": null}, {\"title\": \"Number of Excellent Pairs\", \"titleSlug\": \"number-of-excellent-pairs\", \"difficulty\": \"Hard\", \"translatedTitle\": null}, {\"title\": \"Number of Arithmetic Triplets\", \"titleSlug\": \"number-of-arithmetic-triplets\", \"difficulty\": \"Easy\", \"translatedTitle\": null}, {\"title\": \"Node With Highest Edge Score\", \"titleSlug\": \"node-with-highest-edge-score\", \"difficulty\": \"Medium\", \"translatedTitle\": null}, {\"title\": \"Check Distances Between Same Letters\", \"titleSlug\": \"check-distances-between-same-letters\", \"difficulty\": \"Easy\", \"translatedTitle\": null}, {\"title\": \"Find Subarrays With Equal Sum\", \"titleSlug\": \"find-subarrays-with-equal-sum\", \"difficulty\": \"Easy\", \"translatedTitle\": null}, {\"title\": \"Largest Positive Integer That Exists With Its Negative\", \"titleSlug\": \"largest-positive-integer-that-exists-with-its-negative\", \"difficulty\": \"Easy\", \"translatedTitle\": null}, {\"title\": \"Number of Distinct Averages\", \"titleSlug\": \"number-of-distinct-averages\", \"difficulty\": \"Easy\", \"translatedTitle\": null}, {\"title\": \"Count Pairs Whose Sum is Less than Target\", \"titleSlug\": \"count-pairs-whose-sum-is-less-than-target\", \"difficulty\": \"Easy\", \"translatedTitle\": null}]',\n",
       "   'codeSnippets': [{'lang': 'C++',\n",
       "     'langSlug': 'cpp',\n",
       "     'code': 'class Solution {\\npublic:\\n    vector<int> twoSum(vector<int>& nums, int target) {\\n        \\n    }\\n};'},\n",
       "    {'lang': 'Java',\n",
       "     'langSlug': 'java',\n",
       "     'code': 'class Solution {\\n    public int[] twoSum(int[] nums, int target) {\\n        \\n    }\\n}'},\n",
       "    {'lang': 'Python',\n",
       "     'langSlug': 'python',\n",
       "     'code': 'class Solution(object):\\n    def twoSum(self, nums, target):\\n        \"\"\"\\n        :type nums: List[int]\\n        :type target: int\\n        :rtype: List[int]\\n        \"\"\"\\n        '},\n",
       "    {'lang': 'Python3',\n",
       "     'langSlug': 'python3',\n",
       "     'code': 'class Solution:\\n    def twoSum(self, nums: List[int], target: int) -> List[int]:\\n        '},\n",
       "    {'lang': 'C',\n",
       "     'langSlug': 'c',\n",
       "     'code': '/**\\n * Note: The returned array must be malloced, assume caller calls free().\\n */\\nint* twoSum(int* nums, int numsSize, int target, int* returnSize){\\n\\n}'},\n",
       "    {'lang': 'C#',\n",
       "     'langSlug': 'csharp',\n",
       "     'code': 'public class Solution {\\n    public int[] TwoSum(int[] nums, int target) {\\n        \\n    }\\n}'},\n",
       "    {'lang': 'JavaScript',\n",
       "     'langSlug': 'javascript',\n",
       "     'code': '/**\\n * @param {number[]} nums\\n * @param {number} target\\n * @return {number[]}\\n */\\nvar twoSum = function(nums, target) {\\n    \\n};'},\n",
       "    {'lang': 'TypeScript',\n",
       "     'langSlug': 'typescript',\n",
       "     'code': 'function twoSum(nums: number[], target: number): number[] {\\n\\n};'},\n",
       "    {'lang': 'PHP',\n",
       "     'langSlug': 'php',\n",
       "     'code': 'class Solution {\\n\\n    /**\\n     * @param Integer[] $nums\\n     * @param Integer $target\\n     * @return Integer[]\\n     */\\n    function twoSum($nums, $target) {\\n        \\n    }\\n}'},\n",
       "    {'lang': 'Swift',\n",
       "     'langSlug': 'swift',\n",
       "     'code': 'class Solution {\\n    func twoSum(_ nums: [Int], _ target: Int) -> [Int] {\\n        \\n    }\\n}'},\n",
       "    {'lang': 'Kotlin',\n",
       "     'langSlug': 'kotlin',\n",
       "     'code': 'class Solution {\\n    fun twoSum(nums: IntArray, target: Int): IntArray {\\n        \\n    }\\n}'},\n",
       "    {'lang': 'Dart',\n",
       "     'langSlug': 'dart',\n",
       "     'code': 'class Solution {\\n  List<int> twoSum(List<int> nums, int target) {\\n\\n  }\\n}'},\n",
       "    {'lang': 'Go',\n",
       "     'langSlug': 'golang',\n",
       "     'code': 'func twoSum(nums []int, target int) []int {\\n    \\n}'},\n",
       "    {'lang': 'Ruby',\n",
       "     'langSlug': 'ruby',\n",
       "     'code': '# @param {Integer[]} nums\\n# @param {Integer} target\\n# @return {Integer[]}\\ndef two_sum(nums, target)\\n    \\nend'},\n",
       "    {'lang': 'Scala',\n",
       "     'langSlug': 'scala',\n",
       "     'code': 'object Solution {\\n    def twoSum(nums: Array[Int], target: Int): Array[Int] = {\\n        \\n    }\\n}'},\n",
       "    {'lang': 'Rust',\n",
       "     'langSlug': 'rust',\n",
       "     'code': 'impl Solution {\\n    pub fn two_sum(nums: Vec<i32>, target: i32) -> Vec<i32> {\\n        \\n    }\\n}'},\n",
       "    {'lang': 'Racket',\n",
       "     'langSlug': 'racket',\n",
       "     'code': '(define/contract (two-sum nums target)\\n  (-> (listof exact-integer?) exact-integer? (listof exact-integer?))\\n\\n  )'},\n",
       "    {'lang': 'Erlang',\n",
       "     'langSlug': 'erlang',\n",
       "     'code': '-spec two_sum(Nums :: [integer()], Target :: integer()) -> [integer()].\\ntwo_sum(Nums, Target) ->\\n  .'},\n",
       "    {'lang': 'Elixir',\n",
       "     'langSlug': 'elixir',\n",
       "     'code': 'defmodule Solution do\\n  @spec two_sum(nums :: [integer], target :: integer) :: [integer]\\n  def two_sum(nums, target) do\\n\\n  end\\nend'}],\n",
       "   'content': '<p>Given an array of integers <code>nums</code>&nbsp;and an integer <code>target</code>, return <em>indices of the two numbers such that they add up to <code>target</code></em>.</p>\\n\\n<p>You may assume that each input would have <strong><em>exactly</em> one solution</strong>, and you may not use the <em>same</em> element twice.</p>\\n\\n<p>You can return the answer in any order.</p>\\n\\n<p>&nbsp;</p>\\n<p><strong class=\"example\">Example 1:</strong></p>\\n\\n<pre>\\n<strong>Input:</strong> nums = [2,7,11,15], target = 9\\n<strong>Output:</strong> [0,1]\\n<strong>Explanation:</strong> Because nums[0] + nums[1] == 9, we return [0, 1].\\n</pre>\\n\\n<p><strong class=\"example\">Example 2:</strong></p>\\n\\n<pre>\\n<strong>Input:</strong> nums = [3,2,4], target = 6\\n<strong>Output:</strong> [1,2]\\n</pre>\\n\\n<p><strong class=\"example\">Example 3:</strong></p>\\n\\n<pre>\\n<strong>Input:</strong> nums = [3,3], target = 6\\n<strong>Output:</strong> [0,1]\\n</pre>\\n\\n<p>&nbsp;</p>\\n<p><strong>Constraints:</strong></p>\\n\\n<ul>\\n\\t<li><code>2 &lt;= nums.length &lt;= 10<sup>4</sup></code></li>\\n\\t<li><code>-10<sup>9</sup> &lt;= nums[i] &lt;= 10<sup>9</sup></code></li>\\n\\t<li><code>-10<sup>9</sup> &lt;= target &lt;= 10<sup>9</sup></code></li>\\n\\t<li><strong>Only one valid answer exists.</strong></li>\\n</ul>\\n\\n<p>&nbsp;</p>\\n<strong>Follow-up:&nbsp;</strong>Can you come up with an algorithm that is less than <code>O(n<sup>2</sup>)</code><font face=\"monospace\">&nbsp;</font>time complexity?'}}}"
      ]
     },
     "execution_count": 98,
     "metadata": {},
     "output_type": "execute_result"
    }
   ],
   "source": [
    "req.json()"
   ]
  },
  {
   "cell_type": "code",
   "execution_count": 18,
   "metadata": {},
   "outputs": [
    {
     "data": {
      "text/plain": [
       "┌────────────────┬─────────────┬─────────┬─────────┬─────────┬───────┐\n",
       "│  column_name   │ column_type │  null   │   key   │ default │ extra │\n",
       "│    varchar     │   varchar   │ varchar │ varchar │ varchar │ int32 │\n",
       "├────────────────┼─────────────┼─────────┼─────────┼─────────┼───────┤\n",
       "│ QID            │ VARCHAR     │ YES     │ NULL    │ NULL    │  NULL │\n",
       "│ title          │ VARCHAR     │ YES     │ NULL    │ NULL    │  NULL │\n",
       "│ titleSlug      │ VARCHAR     │ YES     │ NULL    │ NULL    │  NULL │\n",
       "│ difficulty     │ VARCHAR     │ YES     │ NULL    │ NULL    │  NULL │\n",
       "│ acceptanceRate │ DOUBLE      │ YES     │ NULL    │ NULL    │  NULL │\n",
       "│ paidOnly       │ BOOLEAN     │ YES     │ NULL    │ NULL    │  NULL │\n",
       "│ topicTags      │ VARCHAR     │ YES     │ NULL    │ NULL    │  NULL │\n",
       "│ categorySlug   │ VARCHAR     │ YES     │ NULL    │ NULL    │  NULL │\n",
       "└────────────────┴─────────────┴─────────┴─────────┴─────────┴───────┘"
      ]
     },
     "execution_count": 18,
     "metadata": {},
     "output_type": "execute_result"
    }
   ],
   "source": [
    "duckdb.sql('describe leetcode')"
   ]
  },
  {
   "cell_type": "code",
   "execution_count": 31,
   "metadata": {},
   "outputs": [
    {
     "ename": "CatalogException",
     "evalue": "Catalog Error: Table 'leetcode' does not exist!",
     "output_type": "error",
     "traceback": [
      "\u001b[0;31m---------------------------------------------------------------------------\u001b[0m",
      "\u001b[0;31mCatalogException\u001b[0m                          Traceback (most recent call last)",
      "Cell \u001b[0;32mIn[31], line 1\u001b[0m\n\u001b[0;32m----> 1\u001b[0m con\u001b[39m.\u001b[39;49mtable(\u001b[39m'\u001b[39;49m\u001b[39mleetcode\u001b[39;49m\u001b[39m'\u001b[39;49m)\u001b[39m.\u001b[39mshow()\n",
      "\u001b[0;31mCatalogException\u001b[0m: Catalog Error: Table 'leetcode' does not exist!"
     ]
    }
   ],
   "source": [
    "con.table('leetcode').show()"
   ]
  },
  {
   "cell_type": "code",
   "execution_count": 32,
   "metadata": {},
   "outputs": [
    {
     "ename": "CatalogException",
     "evalue": "Catalog Error: Table with name \"test\" already exists!",
     "output_type": "error",
     "traceback": [
      "\u001b[0;31m---------------------------------------------------------------------------\u001b[0m",
      "\u001b[0;31mCatalogException\u001b[0m                          Traceback (most recent call last)",
      "Cell \u001b[0;32mIn[32], line 1\u001b[0m\n\u001b[0;32m----> 1\u001b[0m con\u001b[39m.\u001b[39;49msql(\u001b[39m'\u001b[39;49m\u001b[39mCREATE TABLE test(i INTEGER)\u001b[39;49m\u001b[39m'\u001b[39;49m)\n\u001b[1;32m      2\u001b[0m con\u001b[39m.\u001b[39msql(\u001b[39m'\u001b[39m\u001b[39mINSERT INTO test VALUES (42)\u001b[39m\u001b[39m'\u001b[39m)\n",
      "\u001b[0;31mCatalogException\u001b[0m: Catalog Error: Table with name \"test\" already exists!"
     ]
    }
   ],
   "source": [
    "con.sql('CREATE TABLE test(i INTEGER)')\n",
    "con.sql('INSERT INTO test VALUES (42)')"
   ]
  },
  {
   "cell_type": "code",
   "execution_count": 68,
   "metadata": {},
   "outputs": [
    {
     "ename": "ConnectionException",
     "evalue": "Connection Error: Connection has already been closed",
     "output_type": "error",
     "traceback": [
      "\u001b[0;31m---------------------------------------------------------------------------\u001b[0m",
      "\u001b[0;31mConnectionException\u001b[0m                       Traceback (most recent call last)",
      "Cell \u001b[0;32mIn[68], line 1\u001b[0m\n\u001b[0;32m----> 1\u001b[0m con\u001b[39m.\u001b[39;49msql(\u001b[39m\"\u001b[39;49m\u001b[39mSHOW TABLES\u001b[39;49m\u001b[39m\"\u001b[39;49m)\n",
      "\u001b[0;31mConnectionException\u001b[0m: Connection Error: Connection has already been closed"
     ]
    }
   ],
   "source": [
    "con.sql(\"SHOW TABLES\")"
   ]
  },
  {
   "cell_type": "code",
   "execution_count": 33,
   "metadata": {},
   "outputs": [
    {
     "name": "stdout",
     "output_type": "stream",
     "text": [
      "┌───────┐\n",
      "│   i   │\n",
      "│ int32 │\n",
      "├───────┤\n",
      "│    42 │\n",
      "└───────┘\n",
      "\n"
     ]
    }
   ],
   "source": [
    "con.table('test').show()"
   ]
  },
  {
   "cell_type": "code",
   "execution_count": 99,
   "metadata": {},
   "outputs": [],
   "source": [
    "con.close()"
   ]
  },
  {
   "cell_type": "code",
   "execution_count": null,
   "metadata": {},
   "outputs": [],
   "source": []
  }
 ],
 "metadata": {
  "kernelspec": {
   "display_name": "toyproblems",
   "language": "python",
   "name": "python3"
  },
  "language_info": {
   "codemirror_mode": {
    "name": "ipython",
    "version": 3
   },
   "file_extension": ".py",
   "mimetype": "text/x-python",
   "name": "python",
   "nbconvert_exporter": "python",
   "pygments_lexer": "ipython3",
   "version": "3.11.5"
  },
  "orig_nbformat": 4
 },
 "nbformat": 4,
 "nbformat_minor": 2
}
